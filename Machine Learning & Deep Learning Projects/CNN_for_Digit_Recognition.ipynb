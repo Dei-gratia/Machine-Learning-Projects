{
  "nbformat": 4,
  "nbformat_minor": 0,
  "metadata": {
    "colab": {
      "provenance": [],
      "gpuType": "T4",
      "authorship_tag": "ABX9TyNwQEA2TBST5A1pyP+9Jy/y",
      "include_colab_link": true
    },
    "kernelspec": {
      "name": "python3",
      "display_name": "Python 3"
    },
    "language_info": {
      "name": "python"
    },
    "accelerator": "GPU"
  },
  "cells": [
    {
      "cell_type": "markdown",
      "metadata": {
        "id": "view-in-github",
        "colab_type": "text"
      },
      "source": [
        "<a href=\"https://colab.research.google.com/github/Dei-gratia/Machine-Learning-Projects/blob/main/Machine%20Learning%20%26%20Deep%20Learning%20Projects/CNN_for_Digit_Recognition.ipynb\" target=\"_parent\"><img src=\"https://colab.research.google.com/assets/colab-badge.svg\" alt=\"Open In Colab\"/></a>"
      ]
    },
    {
      "cell_type": "code",
      "execution_count": 21,
      "metadata": {
        "id": "wxVt04l-M77U"
      },
      "outputs": [],
      "source": [
        "#importing dependances\n",
        "import numpy as np\n",
        "import pandas as pd\n",
        "import matplotlib.pyplot as plt\n",
        "import tensorflow as tf\n",
        "from sklearn.metrics import confusion_matrix, accuracy_score"
      ]
    },
    {
      "cell_type": "markdown",
      "source": [
        "# Data Preprocessing"
      ],
      "metadata": {
        "id": "uQNqDxsJNfpl"
      }
    },
    {
      "cell_type": "code",
      "source": [
        "#importing the dataset\n",
        "from tensorflow.keras.datasets import mnist\n",
        "\n",
        "(X_train, y_train), (X_test, y_test) = mnist.load_data()"
      ],
      "metadata": {
        "colab": {
          "base_uri": "https://localhost:8080/"
        },
        "id": "DxgkUTI-NjMW",
        "outputId": "d40f971f-d318-47a0-9907-4d1c2b287a97"
      },
      "execution_count": 2,
      "outputs": [
        {
          "output_type": "stream",
          "name": "stdout",
          "text": [
            "Downloading data from https://storage.googleapis.com/tensorflow/tf-keras-datasets/mnist.npz\n",
            "11490434/11490434 [==============================] - 0s 0us/step\n"
          ]
        }
      ]
    },
    {
      "cell_type": "code",
      "source": [
        "plt.imshow(X_train[0])"
      ],
      "metadata": {
        "colab": {
          "base_uri": "https://localhost:8080/",
          "height": 0
        },
        "id": "ulduKI4uOFgI",
        "outputId": "5397fd47-4736-4015-e8b4-d88a42ce11ce"
      },
      "execution_count": 3,
      "outputs": [
        {
          "output_type": "execute_result",
          "data": {
            "text/plain": [
              "<matplotlib.image.AxesImage at 0x78647f2bbfa0>"
            ]
          },
          "metadata": {},
          "execution_count": 3
        },
        {
          "output_type": "display_data",
          "data": {
            "text/plain": [
              "<Figure size 640x480 with 1 Axes>"
            ],
            "image/png": "[encoded data removed]"
          },
          "metadata": {}
        }
      ]
    },
    {
      "cell_type": "code",
      "source": [
        "y_train[0]"
      ],
      "metadata": {
        "colab": {
          "base_uri": "https://localhost:8080/"
        },
        "id": "6Xfwr-_kONR8",
        "outputId": "116f3c0e-cad2-4df1-da1e-ac90592d061a"
      },
      "execution_count": 4,
      "outputs": [
        {
          "output_type": "execute_result",
          "data": {
            "text/plain": [
              "5"
            ]
          },
          "metadata": {},
          "execution_count": 4
        }
      ]
    },
    {
      "cell_type": "code",
      "source": [
        "X_train.shape, y_train.shape"
      ],
      "metadata": {
        "colab": {
          "base_uri": "https://localhost:8080/"
        },
        "id": "nilNK5c7OQq2",
        "outputId": "788235c4-9a08-46e5-9d00-797edab7b1e0"
      },
      "execution_count": 5,
      "outputs": [
        {
          "output_type": "execute_result",
          "data": {
            "text/plain": [
              "((60000, 28, 28), (60000,))"
            ]
          },
          "metadata": {},
          "execution_count": 5
        }
      ]
    },
    {
      "cell_type": "code",
      "source": [
        "X_train.min(), X_train.max()"
      ],
      "metadata": {
        "colab": {
          "base_uri": "https://localhost:8080/"
        },
        "id": "Z-Hxpx8Scj8d",
        "outputId": "dff2f5a7-6c74-44a8-ebd2-4f0114587961"
      },
      "execution_count": 6,
      "outputs": [
        {
          "output_type": "execute_result",
          "data": {
            "text/plain": [
              "(0, 255)"
            ]
          },
          "metadata": {},
          "execution_count": 6
        }
      ]
    },
    {
      "cell_type": "code",
      "source": [
        "y_train.min(), y_train.max()"
      ],
      "metadata": {
        "colab": {
          "base_uri": "https://localhost:8080/"
        },
        "id": "nhDlpmSTctQz",
        "outputId": "cd72b927-716e-4342-a7c4-e6c55d147a95"
      },
      "execution_count": 7,
      "outputs": [
        {
          "output_type": "execute_result",
          "data": {
            "text/plain": [
              "(0, 9)"
            ]
          },
          "metadata": {},
          "execution_count": 7
        }
      ]
    },
    {
      "cell_type": "code",
      "source": [
        "# scale the images\n",
        "X_train = X_train/255.0\n",
        "X_test =  X_test/255.0\n",
        "X_train.min(), X_train.max()"
      ],
      "metadata": {
        "colab": {
          "base_uri": "https://localhost:8080/"
        },
        "id": "R4B931C4cwUJ",
        "outputId": "496cef2f-0dfa-4fd8-8374-cdcc218ae571"
      },
      "execution_count": 8,
      "outputs": [
        {
          "output_type": "execute_result",
          "data": {
            "text/plain": [
              "(0.0, 1.0)"
            ]
          },
          "metadata": {},
          "execution_count": 8
        }
      ]
    },
    {
      "cell_type": "code",
      "source": [
        "# reshape the images\n",
        "X_train = X_train.reshape(60000, 28, 28, 1)\n",
        "X_test = X_test.reshape(10000, 28, 28, 1)\n",
        "X_train.shape, X_test.shape"
      ],
      "metadata": {
        "colab": {
          "base_uri": "https://localhost:8080/"
        },
        "id": "5KmdQZAZdJ_s",
        "outputId": "dc506dbc-ad3d-4b26-886c-06085b05c48b"
      },
      "execution_count": 9,
      "outputs": [
        {
          "output_type": "execute_result",
          "data": {
            "text/plain": [
              "((60000, 28, 28, 1), (10000, 28, 28, 1))"
            ]
          },
          "metadata": {},
          "execution_count": 9
        }
      ]
    },
    {
      "cell_type": "code",
      "source": [
        "input_shape = X_train[0].shape\n",
        "input_shape"
      ],
      "metadata": {
        "colab": {
          "base_uri": "https://localhost:8080/"
        },
        "id": "rG2Hm2jzdyLB",
        "outputId": "a4ceeca1-6392-48c3-d9ce-e1cda9efa928"
      },
      "execution_count": 10,
      "outputs": [
        {
          "output_type": "execute_result",
          "data": {
            "text/plain": [
              "(28, 28, 1)"
            ]
          },
          "metadata": {},
          "execution_count": 10
        }
      ]
    },
    {
      "cell_type": "markdown",
      "source": [
        "# Building the Model"
      ],
      "metadata": {
        "id": "7Nj45DDMei6-"
      }
    },
    {
      "cell_type": "code",
      "source": [
        "#initialise the model object\n",
        "model = tf.keras.models.Sequential()\n",
        "\n",
        "#add first CNN layer\n",
        "model.add(tf.keras.layers.Conv2D(filters=64, kernel_size=(3, 3), activation='relu', input_shape=(28, 28, 1)))\n",
        "\n",
        "#add second CNN layer\n",
        "model.add(tf.keras.layers.Conv2D(filters=64, kernel_size=(3, 3), activation='relu'))\n",
        "\n",
        "#add maxpool layer\n",
        "model.add(tf.keras.layers.MaxPool2D(pool_size=(2, 2)))\n",
        "\n",
        "#add dropout layer\n",
        "model.add(tf.keras.layers.Dropout(0.4))\n",
        "\n",
        "#add flatten layer\n",
        "model.add(tf.keras.layers.Flatten())\n",
        "\n",
        "#add fully connected (dense) layer\n",
        "model.add(tf.keras.layers.Dense(units=128, activation='relu'))\n",
        "\n",
        "#add output layer\n",
        "model.add(tf.keras.layers.Dense(units=10, activation='softmax'))\n",
        "\n",
        "model.summary()\n"
      ],
      "metadata": {
        "colab": {
          "base_uri": "https://localhost:8080/"
        },
        "id": "OnzuhZwXeIMR",
        "outputId": "fcb4837b-2a2a-43cc-f1d1-db10bbb4cb9a"
      },
      "execution_count": 11,
      "outputs": [
        {
          "output_type": "stream",
          "name": "stdout",
          "text": [
            "Model: \"sequential\"\n",
            "_________________________________________________________________\n",
            " Layer (type)                Output Shape              Param #   \n",
            "=================================================================\n",
            " conv2d (Conv2D)             (None, 26, 26, 64)        640       \n",
            "                                                                 \n",
            " conv2d_1 (Conv2D)           (None, 24, 24, 64)        36928     \n",
            "                                                                 \n",
            " max_pooling2d (MaxPooling2  (None, 12, 12, 64)        0         \n",
            " D)                                                              \n",
            "                                                                 \n",
            " dropout (Dropout)           (None, 12, 12, 64)        0         \n",
            "                                                                 \n",
            " flatten (Flatten)           (None, 9216)              0         \n",
            "                                                                 \n",
            " dense (Dense)               (None, 128)               1179776   \n",
            "                                                                 \n",
            " dense_1 (Dense)             (None, 10)                1290      \n",
            "                                                                 \n",
            "=================================================================\n",
            "Total params: 1218634 (4.65 MB)\n",
            "Trainable params: 1218634 (4.65 MB)\n",
            "Non-trainable params: 0 (0.00 Byte)\n",
            "_________________________________________________________________\n"
          ]
        }
      ]
    },
    {
      "cell_type": "code",
      "source": [
        "#compile the model\n",
        "model.compile(optimizer='adam', loss='sparse_categorical_crossentropy', metrics=['sparse_categorical_accuracy'])"
      ],
      "metadata": {
        "id": "v1PYOeYliRWI"
      },
      "execution_count": 12,
      "outputs": []
    },
    {
      "cell_type": "markdown",
      "source": [
        "# Training the model"
      ],
      "metadata": {
        "id": "g8hkCamqi8Dw"
      }
    },
    {
      "cell_type": "code",
      "source": [
        "history  = model.fit(X_train, y_train, batch_size=128, epochs=10, validation_data=(X_test, y_test))"
      ],
      "metadata": {
        "colab": {
          "base_uri": "https://localhost:8080/"
        },
        "id": "l2p2nmaLi_2a",
        "outputId": "ad71c3bf-16e2-475f-d6f1-82c12c46bf2e"
      },
      "execution_count": 13,
      "outputs": [
        {
          "output_type": "stream",
          "name": "stdout",
          "text": [
            "Epoch 1/10\n",
            "469/469 [==============================] - 14s 13ms/step - loss: 0.1693 - sparse_categorical_accuracy: 0.9480 - val_loss: 0.0473 - val_sparse_categorical_accuracy: 0.9839\n",
            "Epoch 2/10\n",
            "469/469 [==============================] - 5s 11ms/step - loss: 0.0499 - sparse_categorical_accuracy: 0.9842 - val_loss: 0.0362 - val_sparse_categorical_accuracy: 0.9878\n",
            "Epoch 3/10\n",
            "469/469 [==============================] - 5s 11ms/step - loss: 0.0341 - sparse_categorical_accuracy: 0.9890 - val_loss: 0.0330 - val_sparse_categorical_accuracy: 0.9887\n",
            "Epoch 4/10\n",
            "469/469 [==============================] - 5s 11ms/step - loss: 0.0263 - sparse_categorical_accuracy: 0.9915 - val_loss: 0.0308 - val_sparse_categorical_accuracy: 0.9897\n",
            "Epoch 5/10\n",
            "469/469 [==============================] - 5s 10ms/step - loss: 0.0197 - sparse_categorical_accuracy: 0.9932 - val_loss: 0.0316 - val_sparse_categorical_accuracy: 0.9892\n",
            "Epoch 6/10\n",
            "469/469 [==============================] - 5s 11ms/step - loss: 0.0170 - sparse_categorical_accuracy: 0.9944 - val_loss: 0.0301 - val_sparse_categorical_accuracy: 0.9906\n",
            "Epoch 7/10\n",
            "469/469 [==============================] - 5s 11ms/step - loss: 0.0142 - sparse_categorical_accuracy: 0.9954 - val_loss: 0.0316 - val_sparse_categorical_accuracy: 0.9906\n",
            "Epoch 8/10\n",
            "469/469 [==============================] - 5s 10ms/step - loss: 0.0118 - sparse_categorical_accuracy: 0.9962 - val_loss: 0.0307 - val_sparse_categorical_accuracy: 0.9911\n",
            "Epoch 9/10\n",
            "469/469 [==============================] - 7s 14ms/step - loss: 0.0104 - sparse_categorical_accuracy: 0.9966 - val_loss: 0.0347 - val_sparse_categorical_accuracy: 0.9907\n",
            "Epoch 10/10\n",
            "469/469 [==============================] - 7s 15ms/step - loss: 0.0092 - sparse_categorical_accuracy: 0.9970 - val_loss: 0.0382 - val_sparse_categorical_accuracy: 0.9893\n"
          ]
        }
      ]
    },
    {
      "cell_type": "code",
      "source": [
        "# model predictions\n",
        "y_pred = np.argmax(model.predict(X_test), axis=1)"
      ],
      "metadata": {
        "colab": {
          "base_uri": "https://localhost:8080/"
        },
        "id": "Fq7KFuD0jluf",
        "outputId": "61116baf-1180-4a21-9ca2-46ac929f3af2"
      },
      "execution_count": 16,
      "outputs": [
        {
          "output_type": "stream",
          "name": "stdout",
          "text": [
            "313/313 [==============================] - 1s 3ms/step\n"
          ]
        }
      ]
    },
    {
      "cell_type": "code",
      "source": [
        "y_pred[7], y_test[7]"
      ],
      "metadata": {
        "colab": {
          "base_uri": "https://localhost:8080/"
        },
        "id": "q-oTBuUqkXYG",
        "outputId": "83437c67-723c-4cfb-a70b-b9a33ea7e907"
      },
      "execution_count": 20,
      "outputs": [
        {
          "output_type": "execute_result",
          "data": {
            "text/plain": [
              "(9, 9)"
            ]
          },
          "metadata": {},
          "execution_count": 20
        }
      ]
    },
    {
      "cell_type": "code",
      "source": [
        "# confusion matrix\n",
        "cm = confusion_matrix(y_test, y_pred)\n",
        "cm"
      ],
      "metadata": {
        "colab": {
          "base_uri": "https://localhost:8080/"
        },
        "id": "cfAKEfihkkB8",
        "outputId": "dab7c472-db87-40a2-a404-523999694e13"
      },
      "execution_count": 22,
      "outputs": [
        {
          "output_type": "execute_result",
          "data": {
            "text/plain": [
              "array([[ 975,    1,    0,    0,    0,    1,    2,    1,    0,    0],\n",
              "       [   0, 1127,    0,    0,    0,    2,    3,    3,    0,    0],\n",
              "       [   1,    1, 1021,    0,    1,    0,    0,    8,    0,    0],\n",
              "       [   0,    0,    2, 1003,    0,    4,    0,    1,    0,    0],\n",
              "       [   0,    0,    0,    0,  973,    0,    5,    0,    0,    4],\n",
              "       [   0,    0,    1,    5,    0,  882,    4,    0,    0,    0],\n",
              "       [   2,    1,    0,    0,    1,    0,  954,    0,    0,    0],\n",
              "       [   0,    0,    8,    0,    0,    0,    0, 1018,    1,    1],\n",
              "       [   1,    0,    5,    2,    0,    3,    3,    7,  951,    2],\n",
              "       [   1,    0,    1,    1,    7,    2,    0,    8,    0,  989]])"
            ]
          },
          "metadata": {},
          "execution_count": 22
        }
      ]
    },
    {
      "cell_type": "code",
      "source": [
        "acc_score = accuracy_score(y_test, y_pred)\n",
        "acc_score"
      ],
      "metadata": {
        "colab": {
          "base_uri": "https://localhost:8080/"
        },
        "id": "yvvkFZ6nk9-L",
        "outputId": "04923d75-759b-4ef5-a9ef-44635f93b669"
      },
      "execution_count": 23,
      "outputs": [
        {
          "output_type": "execute_result",
          "data": {
            "text/plain": [
              "0.9893"
            ]
          },
          "metadata": {},
          "execution_count": 23
        }
      ]
    },
    {
      "cell_type": "markdown",
      "source": [
        "# Plot Learning curve"
      ],
      "metadata": {
        "id": "v8DM7JJklLH-"
      }
    },
    {
      "cell_type": "code",
      "source": [
        "def learning_curve(history, epoch):\n",
        "  #training vs validation accuracy\n",
        "  epoch_range = range(1, epoch+1 )\n",
        "  plt.plot(epoch_range, history.history['sparse_categorical_accuracy'])\n",
        "  plt.plot(epoch_range, history.history['val_sparse_categorical_accuracy'])\n",
        "  plt.title('Model Accuracy')\n",
        "  plt.ylabel('Accuracy')\n",
        "  plt.xlabel('Epoch')\n",
        "  plt.legend(['Train', 'val'], loc='upper left')\n",
        "  plt.show()\n",
        "\n",
        "  #training vs validation loss\n",
        "  plt.plot(epoch_range, history.history['loss'])\n",
        "  plt.plot(epoch_range, history.history['val_loss'])\n",
        "  plt.title('Model Loss')\n",
        "  plt.ylabel('Loss')\n",
        "  plt.xlabel('Epoch')\n",
        "  plt.legend(['Train', 'val'], loc='upper left')\n",
        "  plt.show()\n",
        "\n",
        "learning_curve(history, 10)"
      ],
      "metadata": {
        "colab": {
          "base_uri": "https://localhost:8080/",
          "height": 927
        },
        "id": "9eD2kpgClKqr",
        "outputId": "6940b4b9-a9b6-48f1-fff1-0b5c2aa2db63"
      },
      "execution_count": 24,
      "outputs": [
        {
          "output_type": "display_data",
          "data": {
            "text/plain": [
              "<Figure size 640x480 with 1 Axes>"
            ],
            "image/png": "[encoded data removed]"
          },
          "metadata": {}
        },
        {
          "output_type": "display_data",
          "data": {
            "text/plain": [
              "<Figure size 640x480 with 1 Axes>"
            ],
            "image/png": "[encoded data removed]"
          },
          "metadata": {}
        }
      ]
    }
  ]
}