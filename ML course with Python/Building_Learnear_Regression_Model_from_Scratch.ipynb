{
  "nbformat": 4,
  "nbformat_minor": 0,
  "metadata": {
    "colab": {
      "provenance": [],
      "authorship_tag": "ABX9TyMh55hfSi++X/S6SQtIOJeM",
      "include_colab_link": true
    },
    "kernelspec": {
      "name": "python3",
      "display_name": "Python 3"
    },
    "language_info": {
      "name": "python"
    }
  },
  "cells": [
    {
      "cell_type": "markdown",
      "metadata": {
        "id": "view-in-github",
        "colab_type": "text"
      },
      "source": [
        "<a href=\"https://colab.research.google.com/github/Dei-gratia/Machine-Learning-Projects/blob/main/ML%20course%20with%20Python/Building_Learnear_Regression_Model_from_Scratch.ipynb\" target=\"_parent\"><img src=\"https://colab.research.google.com/assets/colab-badge.svg\" alt=\"Open In Colab\"/></a>"
      ]
    },
    {
      "cell_type": "code",
      "execution_count": 1,
      "metadata": {
        "id": "wJyZk7WkbCrt"
      },
      "outputs": [],
      "source": [
        "#import libraries\n",
        "import numpy as np"
      ]
    },
    {
      "cell_type": "code",
      "source": [
        "class Linear_regression():\n",
        "\n",
        "  #initiate the parameters\n",
        "  def __init__(self, learning_rate, no_of_iterations):\n",
        "    self.learning_rate = learning_rate\n",
        "    self.no_of_iterations = no_of_iterations\n",
        "\n",
        "\n",
        "\n",
        "  def fit(self, x, y):\n",
        "    #number of training sample(m) and number of features(m)\n",
        "    self.m, self.n= x.shape\n",
        "    #initialize the weight and bias\n",
        "    self.w = np.zeros(self.n)\n",
        "    self.b = 0\n",
        "    self.x = x\n",
        "    self.Y = y\n",
        "    #implement Gradient Descent\n",
        "    for i in range(self.no_of_iterations):\n",
        "      self.update_weights()\n",
        "\n",
        "\n",
        "\n",
        "\n",
        "\n",
        "  def update_weights(self ):\n",
        "    y_prediction = self.predict(self.x)\n",
        "    #calculate gradients\n",
        "    dx =  (2 * (self.x.T).dot(self.y - y_prediction)) / self.m\n",
        "    db = -2 * np.sum(self.y - y_prediction) / self.m\n",
        "    #update weights\n",
        "    self.w = self.w - self.learning_rate * dw\n",
        "    self.b = self.b - self.learning_rate * db\n",
        "\n",
        "  def predict(self, x):\n",
        "    return x.dot(self.w) + self.b"
      ],
      "metadata": {
        "id": "HspH8WhY0p1K"
      },
      "execution_count": 5,
      "outputs": []
    }
  ]
}